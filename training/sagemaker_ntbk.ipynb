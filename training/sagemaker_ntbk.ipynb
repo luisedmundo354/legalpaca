{
 "cells": [
  {
   "metadata": {
    "ExecuteTime": {
     "end_time": "2025-07-30T12:34:40.509966Z",
     "start_time": "2025-07-30T12:34:40.326384Z"
    }
   },
   "cell_type": "code",
   "source": [
    "import sagemaker\n",
    "import boto3\n",
    "\n",
    "# 2) Hard‑code (or read from env var) the execution‑role ARN you created\n",
    "role = \"arn:aws:iam::371087393859:role/defaultrole\"\n",
    "bucket = \"ir-sagemaker\"\n",
    "session = boto3.Session(profile_name=\"lprofile\", region_name=\"us-east-1\")\n",
    "\n",
    "sm_session = sagemaker.Session(boto_session=session, default_bucket=bucket)"
   ],
   "id": "6f0f99a1aa518973",
   "outputs": [
    {
     "name": "stderr",
     "output_type": "stream",
     "text": [
      "INFO:botocore.credentials:Found credentials in shared credentials file: ~/.aws/credentials\n"
     ]
    }
   ],
   "execution_count": 47
  },
  {
   "metadata": {
    "ExecuteTime": {
     "end_time": "2025-07-30T12:34:42.391357Z",
     "start_time": "2025-07-30T12:34:42.255145Z"
    }
   },
   "cell_type": "code",
   "source": [
    "\n",
    "print(f\"sagemaker role arn: {role}\")\n",
    "print(f\"sagemaker bucket: {sm_session.default_bucket()}\")\n",
    "print(f\"sagemaker session region: {sm_session.boto_region_name}\")\n"
   ],
   "id": "2bb382bdca8243f8",
   "outputs": [
    {
     "name": "stdout",
     "output_type": "stream",
     "text": [
      "sagemaker role arn: arn:aws:iam::371087393859:role/defaultrole\n",
      "sagemaker bucket: ir-sagemaker\n",
      "sagemaker session region: us-east-1\n"
     ]
    }
   ],
   "execution_count": 48
  },
  {
   "metadata": {
    "ExecuteTime": {
     "end_time": "2025-07-30T12:34:44.342594Z",
     "start_time": "2025-07-30T12:34:44.339440Z"
    }
   },
   "cell_type": "code",
   "source": [
    "import sys\n",
    "print(sys.version)"
   ],
   "id": "f1e67dc7e9146bbc",
   "outputs": [
    {
     "name": "stdout",
     "output_type": "stream",
     "text": [
      "3.11.13 (main, Jun  5 2025, 13:12:00) [GCC 11.2.0]\n"
     ]
    }
   ],
   "execution_count": 49
  },
  {
   "metadata": {
    "ExecuteTime": {
     "end_time": "2025-07-30T12:34:51.691351Z",
     "start_time": "2025-07-30T12:34:51.688216Z"
    }
   },
   "cell_type": "code",
   "source": [
    "from sagemaker.s3 import S3Uploader\n",
    "bucket = sm_session.default_bucket()\n",
    "prefix = \"modernbert\"\n",
    "\n",
    "train_uri = f\"s3://{bucket}/{prefix}/train/train.jsonl\"\n",
    "val_uri   = f\"s3://{bucket}/{prefix}/val/val.jsonl\"\n",
    "test_uri  = f\"s3://{bucket}/{prefix}/test/test.jsonl\""
   ],
   "id": "da15a52c29c320e1",
   "outputs": [],
   "execution_count": 50
  },
  {
   "metadata": {
    "ExecuteTime": {
     "end_time": "2025-07-23T22:13:04.293995Z",
     "start_time": "2025-07-23T22:13:04.278233Z"
    }
   },
   "cell_type": "code",
   "source": [
    "train_uri = S3Uploader.upload(\"modernbert/data/train/train.jsonl\", f\"s3://{bucket}/{prefix}/train\")\n",
    "val_uri = S3Uploader.upload(\"modernbert/data/val/val.jsonl\",   f\"s3://{bucket}/{prefix}/val\")\n",
    "test_uri = S3Uploader.upload(\"modernbert/data/test/test.jsonl\", f\"s3://{bucket}/{prefix}/test\")"
   ],
   "id": "initial_id",
   "outputs": [
    {
     "data": {
      "text/plain": [
       "\u001B[38;2;255;0;0m╭─\u001B[0m\u001B[38;2;255;0;0m──────────────────────────────\u001B[0m\u001B[38;2;255;0;0m \u001B[0m\u001B[1;38;2;255;0;0mTraceback \u001B[0m\u001B[1;2;38;2;255;0;0m(most recent call last)\u001B[0m\u001B[38;2;255;0;0m \u001B[0m\u001B[38;2;255;0;0m───────────────────────────────\u001B[0m\u001B[38;2;255;0;0m─╮\u001B[0m\n",
       "\u001B[38;2;255;0;0m│\u001B[0m in <module>:2                                                                                    \u001B[38;2;255;0;0m│\u001B[0m\n",
       "\u001B[38;2;255;0;0m│\u001B[0m                                                                                                  \u001B[38;2;255;0;0m│\u001B[0m\n",
       "\u001B[38;2;255;0;0m│\u001B[0m   \u001B[2m1 \u001B[0m\u001B[94mfrom\u001B[0m\u001B[90m \u001B[0m\u001B[4;96msagemaker\u001B[0m\u001B[4;96m.\u001B[0m\u001B[4;96ms3\u001B[0m\u001B[90m \u001B[0m\u001B[94mimport\u001B[0m S3Uploader                                                          \u001B[38;2;255;0;0m│\u001B[0m\n",
       "\u001B[38;2;255;0;0m│\u001B[0m \u001B[31m❱ \u001B[0m2 train_uri = S3Uploader.upload(\u001B[33m\"\u001B[0m\u001B[33mmodernbert/data/train/train.jsonl\u001B[0m\u001B[33m\"\u001B[0m, \u001B[33mf\u001B[0m\u001B[33m\"\u001B[0m\u001B[33ms3://\u001B[0m\u001B[33m{\u001B[0mbucket\u001B[33m}\u001B[0m\u001B[33m/\u001B[0m\u001B[33m{\u001B[0mpref     \u001B[38;2;255;0;0m│\u001B[0m\n",
       "\u001B[38;2;255;0;0m│\u001B[0m   \u001B[2m3 \u001B[0mval_uri = S3Uploader.upload(\u001B[33m\"\u001B[0m\u001B[33mmodernbert/data/val/val.jsonl\u001B[0m\u001B[33m\"\u001B[0m,   \u001B[33mf\u001B[0m\u001B[33m\"\u001B[0m\u001B[33ms3://\u001B[0m\u001B[33m{\u001B[0mbucket\u001B[33m}\u001B[0m\u001B[33m/\u001B[0m\u001B[33m{\u001B[0mprefix\u001B[33m}\u001B[0m\u001B[33m/\u001B[0m     \u001B[38;2;255;0;0m│\u001B[0m\n",
       "\u001B[38;2;255;0;0m│\u001B[0m   \u001B[2m4 \u001B[0mtest_uri = S3Uploader.upload(\u001B[33m\"\u001B[0m\u001B[33mmodernbert/data/test/test.jsonl\u001B[0m\u001B[33m\"\u001B[0m, \u001B[33mf\u001B[0m\u001B[33m\"\u001B[0m\u001B[33ms3://\u001B[0m\u001B[33m{\u001B[0mbucket\u001B[33m}\u001B[0m\u001B[33m/\u001B[0m\u001B[33m{\u001B[0mprefix\u001B[33m}\u001B[0m     \u001B[38;2;255;0;0m│\u001B[0m\n",
       "\u001B[38;2;255;0;0m│\u001B[0m   \u001B[2m5 \u001B[0m                                                                                             \u001B[38;2;255;0;0m│\u001B[0m\n",
       "\u001B[38;2;255;0;0m╰──────────────────────────────────────────────────────────────────────────────────────────────────╯\u001B[0m\n",
       "\u001B[1;91mNameError: \u001B[0mname \u001B[38;2;0;135;0m'prefix'\u001B[0m is not defined\n"
      ],
      "text/html": [
       "<pre style=\"white-space:pre;overflow-x:auto;line-height:normal;font-family:Menlo,'DejaVu Sans Mono',consolas,'Courier New',monospace\"><span style=\"color: #ff0000; text-decoration-color: #ff0000\">╭─────────────────────────────── </span><span style=\"color: #ff0000; text-decoration-color: #ff0000; font-weight: bold\">Traceback </span><span style=\"color: #ff7f7f; text-decoration-color: #ff7f7f; font-weight: bold\">(most recent call last)</span><span style=\"color: #ff0000; text-decoration-color: #ff0000\"> ────────────────────────────────╮</span>\n",
       "<span style=\"color: #ff0000; text-decoration-color: #ff0000\">│</span> in &lt;module&gt;:2                                                                                    <span style=\"color: #ff0000; text-decoration-color: #ff0000\">│</span>\n",
       "<span style=\"color: #ff0000; text-decoration-color: #ff0000\">│</span>                                                                                                  <span style=\"color: #ff0000; text-decoration-color: #ff0000\">│</span>\n",
       "<span style=\"color: #ff0000; text-decoration-color: #ff0000\">│</span>   <span style=\"color: #7f7f7f; text-decoration-color: #7f7f7f\">1 </span><span style=\"color: #0000ff; text-decoration-color: #0000ff\">from</span><span style=\"color: #808080; text-decoration-color: #808080\"> </span><span style=\"color: #00ffff; text-decoration-color: #00ffff; text-decoration: underline\">sagemaker.s3</span><span style=\"color: #808080; text-decoration-color: #808080\"> </span><span style=\"color: #0000ff; text-decoration-color: #0000ff\">import</span> S3Uploader                                                          <span style=\"color: #ff0000; text-decoration-color: #ff0000\">│</span>\n",
       "<span style=\"color: #ff0000; text-decoration-color: #ff0000\">│</span> <span style=\"color: #800000; text-decoration-color: #800000\">❱ </span>2 train_uri = S3Uploader.upload(<span style=\"color: #808000; text-decoration-color: #808000\">\"modernbert/data/train/train.jsonl\"</span>, <span style=\"color: #808000; text-decoration-color: #808000\">f\"s3://{</span>bucket<span style=\"color: #808000; text-decoration-color: #808000\">}/{</span>pref     <span style=\"color: #ff0000; text-decoration-color: #ff0000\">│</span>\n",
       "<span style=\"color: #ff0000; text-decoration-color: #ff0000\">│</span>   <span style=\"color: #7f7f7f; text-decoration-color: #7f7f7f\">3 </span>val_uri = S3Uploader.upload(<span style=\"color: #808000; text-decoration-color: #808000\">\"modernbert/data/val/val.jsonl\"</span>,   <span style=\"color: #808000; text-decoration-color: #808000\">f\"s3://{</span>bucket<span style=\"color: #808000; text-decoration-color: #808000\">}/{</span>prefix<span style=\"color: #808000; text-decoration-color: #808000\">}/</span>     <span style=\"color: #ff0000; text-decoration-color: #ff0000\">│</span>\n",
       "<span style=\"color: #ff0000; text-decoration-color: #ff0000\">│</span>   <span style=\"color: #7f7f7f; text-decoration-color: #7f7f7f\">4 </span>test_uri = S3Uploader.upload(<span style=\"color: #808000; text-decoration-color: #808000\">\"modernbert/data/test/test.jsonl\"</span>, <span style=\"color: #808000; text-decoration-color: #808000\">f\"s3://{</span>bucket<span style=\"color: #808000; text-decoration-color: #808000\">}/{</span>prefix<span style=\"color: #808000; text-decoration-color: #808000\">}</span>     <span style=\"color: #ff0000; text-decoration-color: #ff0000\">│</span>\n",
       "<span style=\"color: #ff0000; text-decoration-color: #ff0000\">│</span>   <span style=\"color: #7f7f7f; text-decoration-color: #7f7f7f\">5 </span>                                                                                             <span style=\"color: #ff0000; text-decoration-color: #ff0000\">│</span>\n",
       "<span style=\"color: #ff0000; text-decoration-color: #ff0000\">╰──────────────────────────────────────────────────────────────────────────────────────────────────╯</span>\n",
       "<span style=\"color: #ff0000; text-decoration-color: #ff0000; font-weight: bold\">NameError: </span>name <span style=\"color: #008700; text-decoration-color: #008700\">'prefix'</span> is not defined\n",
       "</pre>\n"
      ]
     },
     "metadata": {},
     "output_type": "display_data"
    }
   ],
   "execution_count": 6
  },
  {
   "metadata": {
    "ExecuteTime": {
     "end_time": "2025-07-30T12:35:00.741162Z",
     "start_time": "2025-07-30T12:35:00.708304Z"
    }
   },
   "cell_type": "code",
   "source": [
    "from sagemaker.huggingface import HuggingFace\n",
    "\n",
    "metric_definitions=[\n",
    "    {'Name': 'loss', 'Regex': \"'loss': ([0-9]+(.|e\\-)[0-9]+),?\"},\n",
    "    {'Name': 'learning_rate', 'Regex': \"'learning_rate': ([0-9]+(.|e\\-)[0-9]+),?\"},\n",
    "    {'Name': 'eval_loss', 'Regex': \"'eval_loss': ([0-9]+(.|e\\-)[0-9]+),?\"},\n",
    "    {'Name': 'eval_accuracy', 'Regex': \"'eval_accuracy': ([0-9]+(.|e\\-)[0-9]+),?\"},\n",
    "    {'Name': 'eval_f1', 'Regex': \"'eval_f1': ([0-9]+(.|e\\-)[0-9]+),?\"},\n",
    "    {'Name': 'eval_precision', 'Regex': \"'eval_precision': ([0-9]+(.|e\\-)[0-9]+),?\"},\n",
    "    {'Name': 'eval_recall', 'Regex': \"'eval_recall': ([0-9]+(.|e\\-)[0-9]+),?\"},\n",
    "    {'Name': 'eval_runtime', 'Regex': \"'eval_runtime': ([0-9]+(.|e\\-)[0-9]+),?\"},\n",
    "    {'Name': 'eval_samples_per_second', 'Regex': \"'eval_samples_per_second': ([0-9]+(.|e\\-)[0-9]+),?\"},\n",
    "    {'Name': 'epoch', 'Regex': \"'epoch': ([0-9]+(.|e\\-)[0-9]+),?\"}]\n",
    "\n",
    "hyper = {\"learning_rate\":3e-5,\n",
    "         \"num_train_epochs\":5,\n",
    "         \"temperature\":0.05,\n",
    "         \"deepspeed\": \"ds_zero3.json\"}\n",
    "\n",
    "est = HuggingFace(\n",
    "    entry_point=\"train_sm.py\",\n",
    "    source_dir=\"modernbert\",\n",
    "    role=role,\n",
    "    instance_type=\"ml.g5.12xlarge\",\n",
    "    instance_count=1,\n",
    "    distribution={\"mpi\": {\"enabled\": True}},\n",
    "    transformers_version=\"4.49.0\", pytorch_version=\"2.5.1\", py_version=\"py311\",\n",
    "    hyperparameters=hyper,\n",
    "    metric_definitions=metric_definitions,\n",
    "    environment={\n",
    "        \"PYTORCH_CUDA_ALLOC_CONF\": \"expandable_segments:True\",\n",
    "        \"NCCL_DEBUG\": \"INFO\"\n",
    "    },\n",
    "    output_path=f\"s3://{bucket}/{prefix}/outputs\"\n",
    ")"
   ],
   "id": "f2ea6d1b5bdecbf2",
   "outputs": [],
   "execution_count": 51
  },
  {
   "metadata": {
    "jupyter": {
     "is_executing": true
    },
    "ExecuteTime": {
     "start_time": "2025-07-30T12:35:05.208193Z"
    }
   },
   "cell_type": "code",
   "source": "est.fit({\"train\": train_uri, \"val\": val_uri, \"test\": test_uri})",
   "id": "f43f69a1cd6ff444",
   "outputs": [
    {
     "name": "stderr",
     "output_type": "stream",
     "text": [
      "INFO:sagemaker.telemetry.telemetry_logging:SageMaker Python SDK will collect telemetry to help us better understand our user's needs, diagnose issues, and deliver additional features.\n",
      "To opt out of telemetry, please disable via TelemetryOptOut parameter in SDK defaults config. For more information, refer to https://sagemaker.readthedocs.io/en/stable/overview.html#configuring-and-using-defaults-with-the-sagemaker-python-sdk.\n",
      "INFO:sagemaker.image_uris:image_uri is not presented, retrieving image_uri based on instance_type, framework etc.\n",
      "INFO:sagemaker.image_uris:image_uri is not presented, retrieving image_uri based on instance_type, framework etc.\n",
      "INFO:sagemaker:Creating training-job with name: huggingface-pytorch-training-2025-07-30-12-35-05-226\n"
     ]
    }
   ],
   "execution_count": null
  },
  {
   "metadata": {
    "ExecuteTime": {
     "end_time": "2025-07-30T12:30:56.274476Z",
     "start_time": "2025-07-30T12:30:55.381591Z"
    }
   },
   "cell_type": "code",
   "source": [
    "from sagemaker.analytics import TrainingJobAnalytics\n",
    "\n",
    "df = TrainingJobAnalytics(training_job_name='huggingface-pytorch-training-2025-07-30-03-59-45-613').dataframe()\n",
    "print(df)"
   ],
   "id": "1b65b20af226c80b",
   "outputs": [
    {
     "name": "stderr",
     "output_type": "stream",
     "text": [
      "WARNING:sagemaker.analytics:Warning: No metrics called eval_loss found\n"
     ]
    },
    {
     "name": "stdout",
     "output_type": "stream",
     "text": [
      "    timestamp              metric_name      value\n",
      "0         0.0                     loss   3.360500\n",
      "1       180.0                     loss   2.731600\n",
      "2         0.0            learning_rate   1.721739\n",
      "3       180.0            learning_rate   4.173913\n",
      "4         0.0            eval_accuracy   0.031250\n",
      "5         0.0                  eval_f1   0.019156\n",
      "6         0.0           eval_precision   0.022735\n",
      "7         0.0              eval_recall   0.031250\n",
      "8         0.0             eval_runtime  21.798900\n",
      "9         0.0  eval_samples_per_second  22.157000\n",
      "10        0.0                    epoch   0.430000\n",
      "11      180.0                    epoch   0.870000\n",
      "12      240.0                    epoch   1.000000\n"
     ]
    }
   ],
   "execution_count": 46
  },
  {
   "metadata": {},
   "cell_type": "code",
   "outputs": [],
   "execution_count": null,
   "source": "",
   "id": "ed2726b955e0932"
  },
  {
   "metadata": {},
   "cell_type": "code",
   "outputs": [],
   "execution_count": null,
   "source": "",
   "id": "8d55b008d723c371"
  }
 ],
 "metadata": {
  "kernelspec": {
   "display_name": "legalpacaenv",
   "language": "python",
   "name": "lagalpacaenv"
  },
  "language_info": {
   "codemirror_mode": {
    "name": "ipython",
    "version": 2
   },
   "file_extension": ".py",
   "mimetype": "text/x-python",
   "name": "python",
   "nbconvert_exporter": "python",
   "pygments_lexer": "ipython2",
   "version": "2.7.6"
  }
 },
 "nbformat": 4,
 "nbformat_minor": 5
}
