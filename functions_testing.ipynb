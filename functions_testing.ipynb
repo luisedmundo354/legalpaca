{
 "cells": [
  {
   "cell_type": "code",
   "id": "initial_id",
   "metadata": {
    "collapsed": true,
    "ExecuteTime": {
     "end_time": "2025-07-20T23:40:04.453484Z",
     "start_time": "2025-07-20T23:40:04.448777Z"
    }
   },
   "source": [
    "with open('./preprocessing/demosthenes_dataset/A2009_3F v Commission of the European Communities.xml', 'r') as file:\n",
    "    data = file.read()\n",
    "    print(data[27234:27535])"
   ],
   "outputs": [
    {
     "name": "stdout",
     "output_type": "stream",
     "text": [
      "t\n",
      "\n",
      "44 <prem ID=\"A1\" T=\"F\" ATT=\"A27\">To determine whether the appellant should be regarded as concerned within the meaning of Article 88(2) EC and its application therefore declared admissible, the Court of First Instance began by considering whether the appellant’s competitive position in the market \n"
     ]
    }
   ],
   "execution_count": 2
  },
  {
   "metadata": {
    "ExecuteTime": {
     "end_time": "2025-08-05T21:40:21.312955Z",
     "start_time": "2025-08-05T21:40:21.309931Z"
    }
   },
   "cell_type": "code",
   "source": [
    "import hashlib\n",
    "\n",
    "my_string = \"Hello World\"\n",
    "print(hash(my_string))"
   ],
   "id": "2750bb3e892c5cfe",
   "outputs": [
    {
     "name": "stdout",
     "output_type": "stream",
     "text": [
      "6762156174481277924\n"
     ]
    }
   ],
   "execution_count": 31
  }
 ],
 "metadata": {
  "kernelspec": {
   "display_name": "Python 3",
   "language": "python",
   "name": "python3"
  },
  "language_info": {
   "codemirror_mode": {
    "name": "ipython",
    "version": 2
   },
   "file_extension": ".py",
   "mimetype": "text/x-python",
   "name": "python",
   "nbconvert_exporter": "python",
   "pygments_lexer": "ipython2",
   "version": "2.7.6"
  }
 },
 "nbformat": 4,
 "nbformat_minor": 5
}
